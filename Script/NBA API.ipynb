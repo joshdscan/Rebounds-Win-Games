{
 "cells": [
  {
   "cell_type": "code",
   "execution_count": 1,
   "metadata": {},
   "outputs": [],
   "source": [
    "import pandas as pd\n",
    "import os\n",
    "import matplotlib as plt\n",
    "import seaborn as sns\n",
    "from nba_api.stats import endpoints \n",
    "from nba_api.stats.endpoints import leaguegamefinder\n",
    "from nba_api.stats.static import teams\n",
    "\n"
   ]
  },
  {
   "cell_type": "code",
   "execution_count": 2,
   "metadata": {},
   "outputs": [],
   "source": [
    "playoff_teams=leaguegamefinder.LeagueGameFinder(season_type_nullable=\"Playoffs\")\n",
    "playoff_teams=playoff_teams.get_data_frames()[0]\n",
    "playoff_teams[\"GAME_DATE\"]=pd.to_datetime(playoff_teams[\"GAME_DATE\"])\n",
    "playoff_teams=playoff_teams[playoff_teams['GAME_DATE'].dt.year == 2024]"
   ]
  },
  {
   "cell_type": "code",
   "execution_count": 25,
   "metadata": {},
   "outputs": [
    {
     "data": {
      "text/plain": [
       "(8, 8)"
      ]
     },
     "execution_count": 25,
     "metadata": {},
     "output_type": "execute_result"
    }
   ],
   "source": [
    "playoff_teams_list=playoff_teams[\"TEAM_ID\"].to_list() # This includes WNBA/G league i think\n",
    "playoff_teams_list1=playoff_teams_list[:8]\n",
    "playoff_teams_list2=playoff_teams_list[-8:]\n",
    "len(playoff_teams_list1),len(playoff_teams_list2)"
   ]
  },
  {
   "cell_type": "code",
   "execution_count": 20,
   "metadata": {},
   "outputs": [],
   "source": [
    "nba_teams = teams.get_teams()\n",
    "team_dict = {team['id']: team['full_name'] for team in nba_teams if team['id'] in playoff_teams_list}\n",
    "WL = ['W', 'L']\n",
    "df_range=range(1,5)\n"
   ]
  },
  {
   "cell_type": "markdown",
   "metadata": {},
   "source": [
    "## NumContestedRebounding"
   ]
  },
  {
   "cell_type": "code",
   "execution_count": null,
   "metadata": {},
   "outputs": [],
   "source": [
    "for i, team_id in enumerate(playoff_teams_list, start=1):\n",
    "    combined_df = pd.DataFrame()\n",
    "    team_name = team_dict[team_id]\n",
    "    for winorloss in WL:\n",
    "        reboundstats = endpoints.TeamDashPtReb(season_type_all_star=\"Playoffs\", team_id=team_id, outcome_nullable=winorloss)\n",
    "        df = reboundstats.get_data_frames()[0] \n",
    "        combined_df = pd.concat([combined_df, df], ignore_index=True)\n",
    "    filename = f\"{team_name}NumContestedRebounding.csv\"\n",
    "    combined_df.to_csv(filename, index=False)\n"
   ]
  },
  {
   "cell_type": "code",
   "execution_count": 37,
   "metadata": {},
   "outputs": [],
   "source": [
    "data_frames = []\n",
    "\n",
    "# Directory where the files are located\n",
    "directory = '/Users/joshuascantlebury/WeekendProjects/NBA-Project/Playoff Rebound Analysis/'\n",
    "\n",
    "for team in team_dict.values():\n",
    "    file_path = os.path.join(directory, f'{team}.csv')\n",
    "    if os.path.exists(file_path):\n",
    "        df = pd.read_csv(file_path)\n",
    "        data_frames.append(df)\n",
    "\n",
    "# Combine all DataFrames into one\n",
    "combined_df = pd.concat(data_frames, ignore_index=True)\n",
    "\n",
    "# Display the combined DataFrame\n",
    "combined_df.head()\n",
    "\n",
    "# Save the combined DataFrame to a new CSV file\n",
    "combined_df.to_csv('/Users/joshuascantlebury/WeekendProjects/NBA-Project/Playoff Rebound Analysis/NumContestedRebounding.csv', index=False)"
   ]
  },
  {
   "cell_type": "markdown",
   "metadata": {},
   "source": [
    "## OverallRebounding"
   ]
  },
  {
   "cell_type": "code",
   "execution_count": null,
   "metadata": {},
   "outputs": [],
   "source": [
    "for i, team_id in enumerate(playoff_teams_list, start=1):\n",
    "    combined_df = pd.DataFrame()\n",
    "    team_name = team_dict[team_id]\n",
    "    for winorloss in WL:\n",
    "        reboundstats = endpoints.TeamDashPtReb(season_type_all_star=\"Playoffs\", team_id=team_id, outcome_nullable=winorloss)\n",
    "        df = reboundstats.get_data_frames()[1] \n",
    "        combined_df = pd.concat([combined_df, df], ignore_index=True)\n",
    "    filename = f\"{team_name}OverallRebounding.csv\"\n",
    "    combined_df.to_csv(filename, index=False)\n"
   ]
  },
  {
   "cell_type": "code",
   "execution_count": null,
   "metadata": {},
   "outputs": [],
   "source": [
    "data_frames = []\n",
    "\n",
    "# Directory where the files are located\n",
    "directory = '/Users/joshuascantlebury/WeekendProjects/NBA-Project/Playoff Rebound Analysis/'\n",
    "\n",
    "for team in team_dict.values():\n",
    "    file_path = os.path.join(directory, f'{team}OverallRebounding.csv')\n",
    "    if os.path.exists(file_path):\n",
    "        df = pd.read_csv(file_path)\n",
    "        data_frames.append(df)\n",
    "\n",
    "# Combine all DataFrames into one\n",
    "combined_df = pd.concat(data_frames, ignore_index=True)\n",
    "\n",
    "# Display the combined DataFrame\n",
    "combined_df.head()\n",
    "\n",
    "# Save the combined DataFrame to a new CSV file\n",
    "combined_df.to_csv('/Users/joshuascantlebury/WeekendProjects/NBA-Project/Playoff Rebound Analysis/OverallRebounding.csv', index=False)"
   ]
  }
 ],
 "metadata": {
  "kernelspec": {
   "display_name": "base",
   "language": "python",
   "name": "python3"
  },
  "language_info": {
   "codemirror_mode": {
    "name": "ipython",
    "version": 3
   },
   "file_extension": ".py",
   "mimetype": "text/x-python",
   "name": "python",
   "nbconvert_exporter": "python",
   "pygments_lexer": "ipython3",
   "version": "3.11.5"
  }
 },
 "nbformat": 4,
 "nbformat_minor": 2
}
