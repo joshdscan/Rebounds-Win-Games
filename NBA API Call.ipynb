{
 "cells": [
  {
   "cell_type": "code",
   "execution_count": 1,
   "metadata": {},
   "outputs": [],
   "source": [
    "import pandas as pd\n",
    "import os\n",
    "import matplotlib as plt\n",
    "import seaborn as sns\n",
    "from nba_api.stats import endpoints \n",
    "from nba_api.stats.endpoints import leaguegamefinder\n",
    "from nba_api.stats.static import teams\n",
    "\n"
   ]
  },
  {
   "cell_type": "code",
   "execution_count": 2,
   "metadata": {},
   "outputs": [],
   "source": [
    "playoff_teams=leaguegamefinder.LeagueGameFinder(season_type_nullable=\"Playoffs\")\n",
    "playoff_teams=playoff_teams.get_data_frames()[0]\n",
    "playoff_teams[\"GAME_DATE\"]=pd.to_datetime(playoff_teams[\"GAME_DATE\"])\n",
    "playoff_teams=playoff_teams[playoff_teams['GAME_DATE'].dt.year == 2024]"
   ]
  },
  {
   "cell_type": "code",
   "execution_count": 25,
   "metadata": {},
   "outputs": [
    {
     "data": {
      "text/plain": [
       "(8, 8)"
      ]
     },
     "execution_count": 25,
     "metadata": {},
     "output_type": "execute_result"
    }
   ],
   "source": [
    "playoff_teams_list=playoff_teams[\"TEAM_ID\"].to_list() # This includes WNBA/G league i think"
   ]
  },
  {
   "cell_type": "code",
   "execution_count": 20,
   "metadata": {},
   "outputs": [],
   "source": [
    "nba_teams = teams.get_teams()\n",
    "team_dict = {team['id']: team['full_name'] for team in nba_teams if team['id'] in playoff_teams_list}\n",
    "WL = ['W', 'L']\n",
    "df_range=range(1,5)\n"
   ]
  },
  {
   "cell_type": "markdown",
   "metadata": {},
   "source": [
    "## NumContestedRebounding"
   ]
  },
  {
   "cell_type": "code",
   "execution_count": null,
   "metadata": {},
   "outputs": [],
   "source": [
    "for i, team_id in enumerate(playoff_teams_list, start=1):\n",
    "    combined_df = pd.DataFrame()\n",
    "    team_name = team_dict[team_id]\n",
    "    for winorloss in WL:\n",
    "        reboundstats = endpoints.TeamDashPtReb(season_type_all_star=\"Playoffs\", team_id=team_id, outcome_nullable=winorloss)\n",
    "        df = reboundstats.get_data_frames()[0] \n",
    "        combined_df = pd.concat([combined_df, df], ignore_index=True)\n",
    "    filename = f\"{team_name}NumContestedRebounding.csv\"\n",
    "    combined_df.to_csv(filename, index=False)\n"
   ]
  },
  {
   "cell_type": "code",
   "execution_count": 37,
   "metadata": {},
   "outputs": [],
   "source": [
    "data_frames = []\n",
    "\n",
    "# Directory where the files are located\n",
    "directory = '/Users/joshuascantlebury/WeekendProjects/NBA-Project/Playoff Rebound Analysis/'\n",
    "\n",
    "for team in team_dict.values():\n",
    "    file_path = os.path.join(directory, f'{team}.csv')\n",
    "    if os.path.exists(file_path):\n",
    "        df = pd.read_csv(file_path)\n",
    "        data_frames.append(df)\n",
    "\n",
    "# Combine all DataFrames into one\n",
    "combined_df = pd.concat(data_frames, ignore_index=True)\n",
    "\n",
    "# Display the combined DataFrame\n",
    "combined_df.head()\n",
    "\n",
    "# Save the combined DataFrame to a new CSV file\n",
    "combined_df.to_csv('/Users/joshuascantlebury/WeekendProjects/NBA-Project/Playoff Rebound Analysis/NumContestedRebounding.csv', index=False)"
   ]
  },
  {
   "cell_type": "markdown",
   "metadata": {},
   "source": [
    "## OverallRebounding"
   ]
  },
  {
   "cell_type": "code",
   "execution_count": 43,
   "metadata": {},
   "outputs": [
    {
     "ename": "KeyError",
     "evalue": "1612709889",
     "output_type": "error",
     "traceback": [
      "\u001b[0;31m---------------------------------------------------------------------------\u001b[0m",
      "\u001b[0;31mKeyError\u001b[0m                                  Traceback (most recent call last)",
      "\u001b[1;32m/Users/joshuascantlebury/WeekendProjects/NBA-Project/Playoff Rebound Analysis/NBA API.ipynb Cell 9\u001b[0m line \u001b[0;36m3\n\u001b[1;32m      <a href='vscode-notebook-cell:/Users/joshuascantlebury/WeekendProjects/NBA-Project/Playoff%20Rebound%20Analysis/NBA%20API.ipynb#X42sZmlsZQ%3D%3D?line=0'>1</a>\u001b[0m \u001b[39mfor\u001b[39;00m i, team_id \u001b[39min\u001b[39;00m \u001b[39menumerate\u001b[39m(playoff_teams_list, start\u001b[39m=\u001b[39m\u001b[39m1\u001b[39m):\n\u001b[1;32m      <a href='vscode-notebook-cell:/Users/joshuascantlebury/WeekendProjects/NBA-Project/Playoff%20Rebound%20Analysis/NBA%20API.ipynb#X42sZmlsZQ%3D%3D?line=1'>2</a>\u001b[0m     combined_df \u001b[39m=\u001b[39m pd\u001b[39m.\u001b[39mDataFrame()\n\u001b[0;32m----> <a href='vscode-notebook-cell:/Users/joshuascantlebury/WeekendProjects/NBA-Project/Playoff%20Rebound%20Analysis/NBA%20API.ipynb#X42sZmlsZQ%3D%3D?line=2'>3</a>\u001b[0m     team_name \u001b[39m=\u001b[39m team_dict[team_id]\n\u001b[1;32m      <a href='vscode-notebook-cell:/Users/joshuascantlebury/WeekendProjects/NBA-Project/Playoff%20Rebound%20Analysis/NBA%20API.ipynb#X42sZmlsZQ%3D%3D?line=3'>4</a>\u001b[0m     \u001b[39mfor\u001b[39;00m winorloss \u001b[39min\u001b[39;00m WL:\n\u001b[1;32m      <a href='vscode-notebook-cell:/Users/joshuascantlebury/WeekendProjects/NBA-Project/Playoff%20Rebound%20Analysis/NBA%20API.ipynb#X42sZmlsZQ%3D%3D?line=4'>5</a>\u001b[0m         reboundstats \u001b[39m=\u001b[39m endpoints\u001b[39m.\u001b[39mTeamDashPtReb(season_type_all_star\u001b[39m=\u001b[39m\u001b[39m\"\u001b[39m\u001b[39mPlayoffs\u001b[39m\u001b[39m\"\u001b[39m, team_id\u001b[39m=\u001b[39mteam_id, outcome_nullable\u001b[39m=\u001b[39mwinorloss)\n",
      "\u001b[0;31mKeyError\u001b[0m: 1612709889"
     ]
    }
   ],
   "source": [
    "for i, team_id in enumerate(playoff_teams_list, start=1):\n",
    "    combined_df = pd.DataFrame()\n",
    "    team_name = team_dict[team_id]\n",
    "    for winorloss in WL:\n",
    "        reboundstats = endpoints.TeamDashPtReb(season_type_all_star=\"Playoffs\", team_id=team_id, outcome_nullable=winorloss)\n",
    "        df = reboundstats.get_data_frames()[1] \n",
    "        combined_df = pd.concat([combined_df, df], ignore_index=True)\n",
    "    filename = f\"{team_name}OverallRebounding.csv\"\n",
    "    combined_df.to_csv(filename, index=False)\n"
   ]
  },
  {
   "cell_type": "code",
   "execution_count": 44,
   "metadata": {},
   "outputs": [],
   "source": [
    "data_frames = []\n",
    "\n",
    "# Directory where the files are located\n",
    "directory = '/Users/joshuascantlebury/WeekendProjects/NBA-Project/Playoff Rebound Analysis/'\n",
    "\n",
    "for team in team_dict.values():\n",
    "    file_path = os.path.join(directory, f'{team}OverallRebounding.csv')\n",
    "    if os.path.exists(file_path):\n",
    "        df = pd.read_csv(file_path)\n",
    "        data_frames.append(df)\n",
    "\n",
    "# Combine all DataFrames into one\n",
    "combined_df = pd.concat(data_frames, ignore_index=True)\n",
    "\n",
    "# Display the combined DataFrame\n",
    "combined_df.head()\n",
    "\n",
    "# Save the combined DataFrame to a new CSV file\n",
    "combined_df.to_csv('/Users/joshuascantlebury/WeekendProjects/NBA-Project/Playoff Rebound Analysis/OverallRebounding.csv', index=False)"
   ]
  },
  {
   "cell_type": "markdown",
   "metadata": {},
   "source": [
    "## RebDistanceRebounding"
   ]
  },
  {
   "cell_type": "code",
   "execution_count": null,
   "metadata": {},
   "outputs": [],
   "source": [
    "for i, team_id in enumerate(playoff_teams_list, start=1):\n",
    "    combined_df = pd.DataFrame()\n",
    "    team_name = team_dict[team_id]\n",
    "    for winorloss in WL:\n",
    "        reboundstats = endpoints.TeamDashPtReb(season_type_all_star=\"Playoffs\", team_id=team_id, outcome_nullable=winorloss)\n",
    "        df = reboundstats.get_data_frames()[2] \n",
    "        combined_df = pd.concat([combined_df, df], ignore_index=True)\n",
    "    filename = f\"{team_name}RebDistanceRebounding.csv\"\n",
    "    combined_df.to_csv(filename, index=False)\n"
   ]
  },
  {
   "cell_type": "code",
   "execution_count": 55,
   "metadata": {},
   "outputs": [],
   "source": [
    "data_frames = []\n",
    "\n",
    "# Directory where the files are located\n",
    "directory = '/Users/joshuascantlebury/WeekendProjects/NBA-Project/Playoff Rebound Analysis/'\n",
    "\n",
    "for team in team_dict.values():\n",
    "    file_path = os.path.join(directory, f'{team}RebDistanceRebounding.csv')\n",
    "    if os.path.exists(file_path):\n",
    "        df = pd.read_csv(file_path)\n",
    "        data_frames.append(df)\n",
    "\n",
    "# Combine all DataFrames into one\n",
    "combined_df = pd.concat(data_frames, ignore_index=True)\n",
    "\n",
    "# Display the combined DataFrame\n",
    "combined_df.head()\n",
    "\n",
    "# Save the combined DataFrame to a new CSV file\n",
    "combined_df.to_csv('/Users/joshuascantlebury/WeekendProjects/NBA-Project/Playoff Rebound Analysis/RebDistanceRebounding.csv', index=False)"
   ]
  },
  {
   "cell_type": "markdown",
   "metadata": {},
   "source": [
    "## ShotDistanceRebounding"
   ]
  },
  {
   "cell_type": "code",
   "execution_count": 65,
   "metadata": {},
   "outputs": [
    {
     "ename": "KeyboardInterrupt",
     "evalue": "",
     "output_type": "error",
     "traceback": [
      "\u001b[0;31m---------------------------------------------------------------------------\u001b[0m",
      "\u001b[0;31mKeyboardInterrupt\u001b[0m                         Traceback (most recent call last)",
      "\u001b[1;32m/Users/joshuascantlebury/WeekendProjects/NBA-Project/Playoff Rebound Analysis/NBA API.ipynb Cell 15\u001b[0m line \u001b[0;36m5\n\u001b[1;32m      <a href='vscode-notebook-cell:/Users/joshuascantlebury/WeekendProjects/NBA-Project/Playoff%20Rebound%20Analysis/NBA%20API.ipynb#X55sZmlsZQ%3D%3D?line=2'>3</a>\u001b[0m team_name \u001b[39m=\u001b[39m team_dict[team_id]\n\u001b[1;32m      <a href='vscode-notebook-cell:/Users/joshuascantlebury/WeekendProjects/NBA-Project/Playoff%20Rebound%20Analysis/NBA%20API.ipynb#X55sZmlsZQ%3D%3D?line=3'>4</a>\u001b[0m \u001b[39mfor\u001b[39;00m winorloss \u001b[39min\u001b[39;00m WL:\n\u001b[0;32m----> <a href='vscode-notebook-cell:/Users/joshuascantlebury/WeekendProjects/NBA-Project/Playoff%20Rebound%20Analysis/NBA%20API.ipynb#X55sZmlsZQ%3D%3D?line=4'>5</a>\u001b[0m     reboundstats \u001b[39m=\u001b[39m endpoints\u001b[39m.\u001b[39mTeamDashPtReb(season_type_all_star\u001b[39m=\u001b[39m\u001b[39m\"\u001b[39m\u001b[39mPlayoffs\u001b[39m\u001b[39m\"\u001b[39m, team_id\u001b[39m=\u001b[39mteam_id, outcome_nullable\u001b[39m=\u001b[39mwinorloss)\n\u001b[1;32m      <a href='vscode-notebook-cell:/Users/joshuascantlebury/WeekendProjects/NBA-Project/Playoff%20Rebound%20Analysis/NBA%20API.ipynb#X55sZmlsZQ%3D%3D?line=5'>6</a>\u001b[0m     df \u001b[39m=\u001b[39m reboundstats\u001b[39m.\u001b[39mget_data_frames()[\u001b[39m3\u001b[39m] \n\u001b[1;32m      <a href='vscode-notebook-cell:/Users/joshuascantlebury/WeekendProjects/NBA-Project/Playoff%20Rebound%20Analysis/NBA%20API.ipynb#X55sZmlsZQ%3D%3D?line=6'>7</a>\u001b[0m     combined_df \u001b[39m=\u001b[39m pd\u001b[39m.\u001b[39mconcat([combined_df, df], ignore_index\u001b[39m=\u001b[39m\u001b[39mTrue\u001b[39;00m)\n",
      "File \u001b[0;32m~/miniconda3/lib/python3.11/site-packages/nba_api/stats/endpoints/teamdashptreb.py:173\u001b[0m, in \u001b[0;36mTeamDashPtReb.__init__\u001b[0;34m(self, team_id, last_n_games, league_id, month, opponent_team_id, per_mode_simple, period, season, season_type_all_star, date_from_nullable, date_to_nullable, game_segment_nullable, location_nullable, outcome_nullable, season_segment_nullable, vs_conference_nullable, vs_division_nullable, proxy, headers, timeout, get_request)\u001b[0m\n\u001b[1;32m    153\u001b[0m \u001b[39mself\u001b[39m\u001b[39m.\u001b[39mparameters \u001b[39m=\u001b[39m {\n\u001b[1;32m    154\u001b[0m     \u001b[39m\"\u001b[39m\u001b[39mTeamID\u001b[39m\u001b[39m\"\u001b[39m: team_id,\n\u001b[1;32m    155\u001b[0m     \u001b[39m\"\u001b[39m\u001b[39mLastNGames\u001b[39m\u001b[39m\"\u001b[39m: last_n_games,\n\u001b[0;32m   (...)\u001b[0m\n\u001b[1;32m    170\u001b[0m     \u001b[39m\"\u001b[39m\u001b[39mVsDivision\u001b[39m\u001b[39m\"\u001b[39m: vs_division_nullable,\n\u001b[1;32m    171\u001b[0m }\n\u001b[1;32m    172\u001b[0m \u001b[39mif\u001b[39;00m get_request:\n\u001b[0;32m--> 173\u001b[0m     \u001b[39mself\u001b[39m\u001b[39m.\u001b[39mget_request()\n",
      "File \u001b[0;32m~/miniconda3/lib/python3.11/site-packages/nba_api/stats/endpoints/teamdashptreb.py:176\u001b[0m, in \u001b[0;36mTeamDashPtReb.get_request\u001b[0;34m(self)\u001b[0m\n\u001b[1;32m    175\u001b[0m \u001b[39mdef\u001b[39;00m \u001b[39mget_request\u001b[39m(\u001b[39mself\u001b[39m):\n\u001b[0;32m--> 176\u001b[0m     \u001b[39mself\u001b[39m\u001b[39m.\u001b[39mnba_response \u001b[39m=\u001b[39m NBAStatsHTTP()\u001b[39m.\u001b[39msend_api_request(\n\u001b[1;32m    177\u001b[0m         endpoint\u001b[39m=\u001b[39m\u001b[39mself\u001b[39m\u001b[39m.\u001b[39mendpoint,\n\u001b[1;32m    178\u001b[0m         parameters\u001b[39m=\u001b[39m\u001b[39mself\u001b[39m\u001b[39m.\u001b[39mparameters,\n\u001b[1;32m    179\u001b[0m         proxy\u001b[39m=\u001b[39m\u001b[39mself\u001b[39m\u001b[39m.\u001b[39mproxy,\n\u001b[1;32m    180\u001b[0m         headers\u001b[39m=\u001b[39m\u001b[39mself\u001b[39m\u001b[39m.\u001b[39mheaders,\n\u001b[1;32m    181\u001b[0m         timeout\u001b[39m=\u001b[39m\u001b[39mself\u001b[39m\u001b[39m.\u001b[39mtimeout,\n\u001b[1;32m    182\u001b[0m     )\n\u001b[1;32m    183\u001b[0m     \u001b[39mself\u001b[39m\u001b[39m.\u001b[39mload_response()\n",
      "File \u001b[0;32m~/miniconda3/lib/python3.11/site-packages/nba_api/library/http.py:146\u001b[0m, in \u001b[0;36mNBAHTTP.send_api_request\u001b[0;34m(self, endpoint, parameters, referer, proxy, headers, timeout, raise_exception_on_error)\u001b[0m\n\u001b[1;32m    143\u001b[0m         \u001b[39mprint\u001b[39m(\u001b[39m\"\u001b[39m\u001b[39mloading from file...\u001b[39m\u001b[39m\"\u001b[39m)\n\u001b[1;32m    145\u001b[0m \u001b[39mif\u001b[39;00m \u001b[39mnot\u001b[39;00m contents:\n\u001b[0;32m--> 146\u001b[0m     response \u001b[39m=\u001b[39m requests\u001b[39m.\u001b[39mget(\n\u001b[1;32m    147\u001b[0m         url\u001b[39m=\u001b[39mbase_url,\n\u001b[1;32m    148\u001b[0m         params\u001b[39m=\u001b[39mparameters,\n\u001b[1;32m    149\u001b[0m         headers\u001b[39m=\u001b[39mrequest_headers,\n\u001b[1;32m    150\u001b[0m         proxies\u001b[39m=\u001b[39mproxies,\n\u001b[1;32m    151\u001b[0m         timeout\u001b[39m=\u001b[39mtimeout,\n\u001b[1;32m    152\u001b[0m     )\n\u001b[1;32m    153\u001b[0m     url \u001b[39m=\u001b[39m response\u001b[39m.\u001b[39murl\n\u001b[1;32m    154\u001b[0m     status_code \u001b[39m=\u001b[39m response\u001b[39m.\u001b[39mstatus_code\n",
      "File \u001b[0;32m~/miniconda3/lib/python3.11/site-packages/requests/api.py:73\u001b[0m, in \u001b[0;36mget\u001b[0;34m(url, params, **kwargs)\u001b[0m\n\u001b[1;32m     62\u001b[0m \u001b[39mdef\u001b[39;00m \u001b[39mget\u001b[39m(url, params\u001b[39m=\u001b[39m\u001b[39mNone\u001b[39;00m, \u001b[39m*\u001b[39m\u001b[39m*\u001b[39mkwargs):\n\u001b[1;32m     63\u001b[0m \u001b[39m    \u001b[39m\u001b[39mr\u001b[39m\u001b[39m\"\"\"Sends a GET request.\u001b[39;00m\n\u001b[1;32m     64\u001b[0m \n\u001b[1;32m     65\u001b[0m \u001b[39m    :param url: URL for the new :class:`Request` object.\u001b[39;00m\n\u001b[0;32m   (...)\u001b[0m\n\u001b[1;32m     70\u001b[0m \u001b[39m    :rtype: requests.Response\u001b[39;00m\n\u001b[1;32m     71\u001b[0m \u001b[39m    \"\"\"\u001b[39;00m\n\u001b[0;32m---> 73\u001b[0m     \u001b[39mreturn\u001b[39;00m request(\u001b[39m\"\u001b[39m\u001b[39mget\u001b[39m\u001b[39m\"\u001b[39m, url, params\u001b[39m=\u001b[39mparams, \u001b[39m*\u001b[39m\u001b[39m*\u001b[39mkwargs)\n",
      "File \u001b[0;32m~/miniconda3/lib/python3.11/site-packages/requests/api.py:59\u001b[0m, in \u001b[0;36mrequest\u001b[0;34m(method, url, **kwargs)\u001b[0m\n\u001b[1;32m     55\u001b[0m \u001b[39m# By using the 'with' statement we are sure the session is closed, thus we\u001b[39;00m\n\u001b[1;32m     56\u001b[0m \u001b[39m# avoid leaving sockets open which can trigger a ResourceWarning in some\u001b[39;00m\n\u001b[1;32m     57\u001b[0m \u001b[39m# cases, and look like a memory leak in others.\u001b[39;00m\n\u001b[1;32m     58\u001b[0m \u001b[39mwith\u001b[39;00m sessions\u001b[39m.\u001b[39mSession() \u001b[39mas\u001b[39;00m session:\n\u001b[0;32m---> 59\u001b[0m     \u001b[39mreturn\u001b[39;00m session\u001b[39m.\u001b[39mrequest(method\u001b[39m=\u001b[39mmethod, url\u001b[39m=\u001b[39murl, \u001b[39m*\u001b[39m\u001b[39m*\u001b[39mkwargs)\n",
      "File \u001b[0;32m~/miniconda3/lib/python3.11/site-packages/requests/sessions.py:589\u001b[0m, in \u001b[0;36mSession.request\u001b[0;34m(self, method, url, params, data, headers, cookies, files, auth, timeout, allow_redirects, proxies, hooks, stream, verify, cert, json)\u001b[0m\n\u001b[1;32m    584\u001b[0m send_kwargs \u001b[39m=\u001b[39m {\n\u001b[1;32m    585\u001b[0m     \u001b[39m\"\u001b[39m\u001b[39mtimeout\u001b[39m\u001b[39m\"\u001b[39m: timeout,\n\u001b[1;32m    586\u001b[0m     \u001b[39m\"\u001b[39m\u001b[39mallow_redirects\u001b[39m\u001b[39m\"\u001b[39m: allow_redirects,\n\u001b[1;32m    587\u001b[0m }\n\u001b[1;32m    588\u001b[0m send_kwargs\u001b[39m.\u001b[39mupdate(settings)\n\u001b[0;32m--> 589\u001b[0m resp \u001b[39m=\u001b[39m \u001b[39mself\u001b[39m\u001b[39m.\u001b[39msend(prep, \u001b[39m*\u001b[39m\u001b[39m*\u001b[39msend_kwargs)\n\u001b[1;32m    591\u001b[0m \u001b[39mreturn\u001b[39;00m resp\n",
      "File \u001b[0;32m~/miniconda3/lib/python3.11/site-packages/requests/sessions.py:703\u001b[0m, in \u001b[0;36mSession.send\u001b[0;34m(self, request, **kwargs)\u001b[0m\n\u001b[1;32m    700\u001b[0m start \u001b[39m=\u001b[39m preferred_clock()\n\u001b[1;32m    702\u001b[0m \u001b[39m# Send the request\u001b[39;00m\n\u001b[0;32m--> 703\u001b[0m r \u001b[39m=\u001b[39m adapter\u001b[39m.\u001b[39msend(request, \u001b[39m*\u001b[39m\u001b[39m*\u001b[39mkwargs)\n\u001b[1;32m    705\u001b[0m \u001b[39m# Total elapsed time of the request (approximately)\u001b[39;00m\n\u001b[1;32m    706\u001b[0m elapsed \u001b[39m=\u001b[39m preferred_clock() \u001b[39m-\u001b[39m start\n",
      "File \u001b[0;32m~/miniconda3/lib/python3.11/site-packages/requests/adapters.py:486\u001b[0m, in \u001b[0;36mHTTPAdapter.send\u001b[0;34m(self, request, stream, timeout, verify, cert, proxies)\u001b[0m\n\u001b[1;32m    483\u001b[0m     timeout \u001b[39m=\u001b[39m TimeoutSauce(connect\u001b[39m=\u001b[39mtimeout, read\u001b[39m=\u001b[39mtimeout)\n\u001b[1;32m    485\u001b[0m \u001b[39mtry\u001b[39;00m:\n\u001b[0;32m--> 486\u001b[0m     resp \u001b[39m=\u001b[39m conn\u001b[39m.\u001b[39murlopen(\n\u001b[1;32m    487\u001b[0m         method\u001b[39m=\u001b[39mrequest\u001b[39m.\u001b[39mmethod,\n\u001b[1;32m    488\u001b[0m         url\u001b[39m=\u001b[39murl,\n\u001b[1;32m    489\u001b[0m         body\u001b[39m=\u001b[39mrequest\u001b[39m.\u001b[39mbody,\n\u001b[1;32m    490\u001b[0m         headers\u001b[39m=\u001b[39mrequest\u001b[39m.\u001b[39mheaders,\n\u001b[1;32m    491\u001b[0m         redirect\u001b[39m=\u001b[39m\u001b[39mFalse\u001b[39;00m,\n\u001b[1;32m    492\u001b[0m         assert_same_host\u001b[39m=\u001b[39m\u001b[39mFalse\u001b[39;00m,\n\u001b[1;32m    493\u001b[0m         preload_content\u001b[39m=\u001b[39m\u001b[39mFalse\u001b[39;00m,\n\u001b[1;32m    494\u001b[0m         decode_content\u001b[39m=\u001b[39m\u001b[39mFalse\u001b[39;00m,\n\u001b[1;32m    495\u001b[0m         retries\u001b[39m=\u001b[39m\u001b[39mself\u001b[39m\u001b[39m.\u001b[39mmax_retries,\n\u001b[1;32m    496\u001b[0m         timeout\u001b[39m=\u001b[39mtimeout,\n\u001b[1;32m    497\u001b[0m         chunked\u001b[39m=\u001b[39mchunked,\n\u001b[1;32m    498\u001b[0m     )\n\u001b[1;32m    500\u001b[0m \u001b[39mexcept\u001b[39;00m (ProtocolError, \u001b[39mOSError\u001b[39;00m) \u001b[39mas\u001b[39;00m err:\n\u001b[1;32m    501\u001b[0m     \u001b[39mraise\u001b[39;00m \u001b[39mConnectionError\u001b[39;00m(err, request\u001b[39m=\u001b[39mrequest)\n",
      "File \u001b[0;32m~/miniconda3/lib/python3.11/site-packages/urllib3/connectionpool.py:715\u001b[0m, in \u001b[0;36mHTTPConnectionPool.urlopen\u001b[0;34m(self, method, url, body, headers, retries, redirect, assert_same_host, timeout, pool_timeout, release_conn, chunked, body_pos, **response_kw)\u001b[0m\n\u001b[1;32m    712\u001b[0m     \u001b[39mself\u001b[39m\u001b[39m.\u001b[39m_prepare_proxy(conn)\n\u001b[1;32m    714\u001b[0m \u001b[39m# Make the request on the httplib connection object.\u001b[39;00m\n\u001b[0;32m--> 715\u001b[0m httplib_response \u001b[39m=\u001b[39m \u001b[39mself\u001b[39m\u001b[39m.\u001b[39m_make_request(\n\u001b[1;32m    716\u001b[0m     conn,\n\u001b[1;32m    717\u001b[0m     method,\n\u001b[1;32m    718\u001b[0m     url,\n\u001b[1;32m    719\u001b[0m     timeout\u001b[39m=\u001b[39mtimeout_obj,\n\u001b[1;32m    720\u001b[0m     body\u001b[39m=\u001b[39mbody,\n\u001b[1;32m    721\u001b[0m     headers\u001b[39m=\u001b[39mheaders,\n\u001b[1;32m    722\u001b[0m     chunked\u001b[39m=\u001b[39mchunked,\n\u001b[1;32m    723\u001b[0m )\n\u001b[1;32m    725\u001b[0m \u001b[39m# If we're going to release the connection in ``finally:``, then\u001b[39;00m\n\u001b[1;32m    726\u001b[0m \u001b[39m# the response doesn't need to know about the connection. Otherwise\u001b[39;00m\n\u001b[1;32m    727\u001b[0m \u001b[39m# it will also try to release it and we'll have a double-release\u001b[39;00m\n\u001b[1;32m    728\u001b[0m \u001b[39m# mess.\u001b[39;00m\n\u001b[1;32m    729\u001b[0m response_conn \u001b[39m=\u001b[39m conn \u001b[39mif\u001b[39;00m \u001b[39mnot\u001b[39;00m release_conn \u001b[39melse\u001b[39;00m \u001b[39mNone\u001b[39;00m\n",
      "File \u001b[0;32m~/miniconda3/lib/python3.11/site-packages/urllib3/connectionpool.py:467\u001b[0m, in \u001b[0;36mHTTPConnectionPool._make_request\u001b[0;34m(self, conn, method, url, timeout, chunked, **httplib_request_kw)\u001b[0m\n\u001b[1;32m    462\u001b[0m             httplib_response \u001b[39m=\u001b[39m conn\u001b[39m.\u001b[39mgetresponse()\n\u001b[1;32m    463\u001b[0m         \u001b[39mexcept\u001b[39;00m \u001b[39mBaseException\u001b[39;00m \u001b[39mas\u001b[39;00m e:\n\u001b[1;32m    464\u001b[0m             \u001b[39m# Remove the TypeError from the exception chain in\u001b[39;00m\n\u001b[1;32m    465\u001b[0m             \u001b[39m# Python 3 (including for exceptions like SystemExit).\u001b[39;00m\n\u001b[1;32m    466\u001b[0m             \u001b[39m# Otherwise it looks like a bug in the code.\u001b[39;00m\n\u001b[0;32m--> 467\u001b[0m             six\u001b[39m.\u001b[39mraise_from(e, \u001b[39mNone\u001b[39;00m)\n\u001b[1;32m    468\u001b[0m \u001b[39mexcept\u001b[39;00m (SocketTimeout, BaseSSLError, SocketError) \u001b[39mas\u001b[39;00m e:\n\u001b[1;32m    469\u001b[0m     \u001b[39mself\u001b[39m\u001b[39m.\u001b[39m_raise_timeout(err\u001b[39m=\u001b[39me, url\u001b[39m=\u001b[39murl, timeout_value\u001b[39m=\u001b[39mread_timeout)\n",
      "File \u001b[0;32m<string>:3\u001b[0m, in \u001b[0;36mraise_from\u001b[0;34m(value, from_value)\u001b[0m\n",
      "File \u001b[0;32m~/miniconda3/lib/python3.11/site-packages/urllib3/connectionpool.py:462\u001b[0m, in \u001b[0;36mHTTPConnectionPool._make_request\u001b[0;34m(self, conn, method, url, timeout, chunked, **httplib_request_kw)\u001b[0m\n\u001b[1;32m    459\u001b[0m \u001b[39mexcept\u001b[39;00m \u001b[39mTypeError\u001b[39;00m:\n\u001b[1;32m    460\u001b[0m     \u001b[39m# Python 3\u001b[39;00m\n\u001b[1;32m    461\u001b[0m     \u001b[39mtry\u001b[39;00m:\n\u001b[0;32m--> 462\u001b[0m         httplib_response \u001b[39m=\u001b[39m conn\u001b[39m.\u001b[39mgetresponse()\n\u001b[1;32m    463\u001b[0m     \u001b[39mexcept\u001b[39;00m \u001b[39mBaseException\u001b[39;00m \u001b[39mas\u001b[39;00m e:\n\u001b[1;32m    464\u001b[0m         \u001b[39m# Remove the TypeError from the exception chain in\u001b[39;00m\n\u001b[1;32m    465\u001b[0m         \u001b[39m# Python 3 (including for exceptions like SystemExit).\u001b[39;00m\n\u001b[1;32m    466\u001b[0m         \u001b[39m# Otherwise it looks like a bug in the code.\u001b[39;00m\n\u001b[1;32m    467\u001b[0m         six\u001b[39m.\u001b[39mraise_from(e, \u001b[39mNone\u001b[39;00m)\n",
      "File \u001b[0;32m~/miniconda3/lib/python3.11/http/client.py:1378\u001b[0m, in \u001b[0;36mHTTPConnection.getresponse\u001b[0;34m(self)\u001b[0m\n\u001b[1;32m   1376\u001b[0m \u001b[39mtry\u001b[39;00m:\n\u001b[1;32m   1377\u001b[0m     \u001b[39mtry\u001b[39;00m:\n\u001b[0;32m-> 1378\u001b[0m         response\u001b[39m.\u001b[39mbegin()\n\u001b[1;32m   1379\u001b[0m     \u001b[39mexcept\u001b[39;00m \u001b[39mConnectionError\u001b[39;00m:\n\u001b[1;32m   1380\u001b[0m         \u001b[39mself\u001b[39m\u001b[39m.\u001b[39mclose()\n",
      "File \u001b[0;32m~/miniconda3/lib/python3.11/http/client.py:318\u001b[0m, in \u001b[0;36mHTTPResponse.begin\u001b[0;34m(self)\u001b[0m\n\u001b[1;32m    316\u001b[0m \u001b[39m# read until we get a non-100 response\u001b[39;00m\n\u001b[1;32m    317\u001b[0m \u001b[39mwhile\u001b[39;00m \u001b[39mTrue\u001b[39;00m:\n\u001b[0;32m--> 318\u001b[0m     version, status, reason \u001b[39m=\u001b[39m \u001b[39mself\u001b[39m\u001b[39m.\u001b[39m_read_status()\n\u001b[1;32m    319\u001b[0m     \u001b[39mif\u001b[39;00m status \u001b[39m!=\u001b[39m CONTINUE:\n\u001b[1;32m    320\u001b[0m         \u001b[39mbreak\u001b[39;00m\n",
      "File \u001b[0;32m~/miniconda3/lib/python3.11/http/client.py:279\u001b[0m, in \u001b[0;36mHTTPResponse._read_status\u001b[0;34m(self)\u001b[0m\n\u001b[1;32m    278\u001b[0m \u001b[39mdef\u001b[39;00m \u001b[39m_read_status\u001b[39m(\u001b[39mself\u001b[39m):\n\u001b[0;32m--> 279\u001b[0m     line \u001b[39m=\u001b[39m \u001b[39mstr\u001b[39m(\u001b[39mself\u001b[39m\u001b[39m.\u001b[39mfp\u001b[39m.\u001b[39mreadline(_MAXLINE \u001b[39m+\u001b[39m \u001b[39m1\u001b[39m), \u001b[39m\"\u001b[39m\u001b[39miso-8859-1\u001b[39m\u001b[39m\"\u001b[39m)\n\u001b[1;32m    280\u001b[0m     \u001b[39mif\u001b[39;00m \u001b[39mlen\u001b[39m(line) \u001b[39m>\u001b[39m _MAXLINE:\n\u001b[1;32m    281\u001b[0m         \u001b[39mraise\u001b[39;00m LineTooLong(\u001b[39m\"\u001b[39m\u001b[39mstatus line\u001b[39m\u001b[39m\"\u001b[39m)\n",
      "File \u001b[0;32m~/miniconda3/lib/python3.11/socket.py:706\u001b[0m, in \u001b[0;36mSocketIO.readinto\u001b[0;34m(self, b)\u001b[0m\n\u001b[1;32m    704\u001b[0m \u001b[39mwhile\u001b[39;00m \u001b[39mTrue\u001b[39;00m:\n\u001b[1;32m    705\u001b[0m     \u001b[39mtry\u001b[39;00m:\n\u001b[0;32m--> 706\u001b[0m         \u001b[39mreturn\u001b[39;00m \u001b[39mself\u001b[39m\u001b[39m.\u001b[39m_sock\u001b[39m.\u001b[39mrecv_into(b)\n\u001b[1;32m    707\u001b[0m     \u001b[39mexcept\u001b[39;00m timeout:\n\u001b[1;32m    708\u001b[0m         \u001b[39mself\u001b[39m\u001b[39m.\u001b[39m_timeout_occurred \u001b[39m=\u001b[39m \u001b[39mTrue\u001b[39;00m\n",
      "File \u001b[0;32m~/miniconda3/lib/python3.11/ssl.py:1311\u001b[0m, in \u001b[0;36mSSLSocket.recv_into\u001b[0;34m(self, buffer, nbytes, flags)\u001b[0m\n\u001b[1;32m   1307\u001b[0m     \u001b[39mif\u001b[39;00m flags \u001b[39m!=\u001b[39m \u001b[39m0\u001b[39m:\n\u001b[1;32m   1308\u001b[0m         \u001b[39mraise\u001b[39;00m \u001b[39mValueError\u001b[39;00m(\n\u001b[1;32m   1309\u001b[0m           \u001b[39m\"\u001b[39m\u001b[39mnon-zero flags not allowed in calls to recv_into() on \u001b[39m\u001b[39m%s\u001b[39;00m\u001b[39m\"\u001b[39m \u001b[39m%\u001b[39m\n\u001b[1;32m   1310\u001b[0m           \u001b[39mself\u001b[39m\u001b[39m.\u001b[39m\u001b[39m__class__\u001b[39m)\n\u001b[0;32m-> 1311\u001b[0m     \u001b[39mreturn\u001b[39;00m \u001b[39mself\u001b[39m\u001b[39m.\u001b[39mread(nbytes, buffer)\n\u001b[1;32m   1312\u001b[0m \u001b[39melse\u001b[39;00m:\n\u001b[1;32m   1313\u001b[0m     \u001b[39mreturn\u001b[39;00m \u001b[39msuper\u001b[39m()\u001b[39m.\u001b[39mrecv_into(buffer, nbytes, flags)\n",
      "File \u001b[0;32m~/miniconda3/lib/python3.11/ssl.py:1167\u001b[0m, in \u001b[0;36mSSLSocket.read\u001b[0;34m(self, len, buffer)\u001b[0m\n\u001b[1;32m   1165\u001b[0m \u001b[39mtry\u001b[39;00m:\n\u001b[1;32m   1166\u001b[0m     \u001b[39mif\u001b[39;00m buffer \u001b[39mis\u001b[39;00m \u001b[39mnot\u001b[39;00m \u001b[39mNone\u001b[39;00m:\n\u001b[0;32m-> 1167\u001b[0m         \u001b[39mreturn\u001b[39;00m \u001b[39mself\u001b[39m\u001b[39m.\u001b[39m_sslobj\u001b[39m.\u001b[39mread(\u001b[39mlen\u001b[39m, buffer)\n\u001b[1;32m   1168\u001b[0m     \u001b[39melse\u001b[39;00m:\n\u001b[1;32m   1169\u001b[0m         \u001b[39mreturn\u001b[39;00m \u001b[39mself\u001b[39m\u001b[39m.\u001b[39m_sslobj\u001b[39m.\u001b[39mread(\u001b[39mlen\u001b[39m)\n",
      "\u001b[0;31mKeyboardInterrupt\u001b[0m: "
     ]
    }
   ],
   "source": [
    "for i, team_id in enumerate(playoff_teams_list, start=1):\n",
    "    combined_df = pd.DataFrame()\n",
    "    team_name = team_dict[team_id]\n",
    "    for winorloss in WL:\n",
    "        reboundstats = endpoints.TeamDashPtReb(season_type_all_star=\"Playoffs\", team_id=team_id, outcome_nullable=winorloss)\n",
    "        df = reboundstats.get_data_frames()[3] \n",
    "        combined_df = pd.concat([combined_df, df], ignore_index=True)\n",
    "    filename = f\"{team_name}ShotDistanceRebounding.csv\"\n",
    "    combined_df.to_csv(filename, index=False)\n"
   ]
  },
  {
   "cell_type": "code",
   "execution_count": 66,
   "metadata": {},
   "outputs": [],
   "source": [
    "data_frames = []\n",
    "\n",
    "# Directory where the files are located\n",
    "directory = '/Users/joshuascantlebury/WeekendProjects/NBA-Project/Playoff Rebound Analysis/'\n",
    "\n",
    "for team in team_dict.values():\n",
    "    file_path = os.path.join(directory, f'{team}ShotDistanceRebounding.csv')\n",
    "    if os.path.exists(file_path):\n",
    "        df = pd.read_csv(file_path)\n",
    "        data_frames.append(df)\n",
    "\n",
    "# Combine all DataFrames into one\n",
    "combined_df = pd.concat(data_frames, ignore_index=True)\n",
    "\n",
    "# Display the combined DataFrame\n",
    "combined_df.head()\n",
    "\n",
    "# Save the combined DataFrame to a new CSV file\n",
    "combined_df.to_csv('/Users/joshuascantlebury/WeekendProjects/NBA-Project/Playoff Rebound Analysis/ShotDistanceRebounding.csv', index=False)"
   ]
  },
  {
   "cell_type": "markdown",
   "metadata": {},
   "source": [
    "## ShotTypeRebounding"
   ]
  },
  {
   "cell_type": "code",
   "execution_count": 67,
   "metadata": {},
   "outputs": [
    {
     "ename": "KeyError",
     "evalue": "1612709889",
     "output_type": "error",
     "traceback": [
      "\u001b[0;31m---------------------------------------------------------------------------\u001b[0m",
      "\u001b[0;31mKeyError\u001b[0m                                  Traceback (most recent call last)",
      "\u001b[1;32m/Users/joshuascantlebury/WeekendProjects/NBA-Project/Playoff Rebound Analysis/NBA API.ipynb Cell 18\u001b[0m line \u001b[0;36m3\n\u001b[1;32m      <a href='vscode-notebook-cell:/Users/joshuascantlebury/WeekendProjects/NBA-Project/Playoff%20Rebound%20Analysis/NBA%20API.ipynb#X62sZmlsZQ%3D%3D?line=0'>1</a>\u001b[0m \u001b[39mfor\u001b[39;00m i, team_id \u001b[39min\u001b[39;00m \u001b[39menumerate\u001b[39m(playoff_teams_list, start\u001b[39m=\u001b[39m\u001b[39m1\u001b[39m):\n\u001b[1;32m      <a href='vscode-notebook-cell:/Users/joshuascantlebury/WeekendProjects/NBA-Project/Playoff%20Rebound%20Analysis/NBA%20API.ipynb#X62sZmlsZQ%3D%3D?line=1'>2</a>\u001b[0m     combined_df \u001b[39m=\u001b[39m pd\u001b[39m.\u001b[39mDataFrame()\n\u001b[0;32m----> <a href='vscode-notebook-cell:/Users/joshuascantlebury/WeekendProjects/NBA-Project/Playoff%20Rebound%20Analysis/NBA%20API.ipynb#X62sZmlsZQ%3D%3D?line=2'>3</a>\u001b[0m     team_name \u001b[39m=\u001b[39m team_dict[team_id]\n\u001b[1;32m      <a href='vscode-notebook-cell:/Users/joshuascantlebury/WeekendProjects/NBA-Project/Playoff%20Rebound%20Analysis/NBA%20API.ipynb#X62sZmlsZQ%3D%3D?line=3'>4</a>\u001b[0m     \u001b[39mfor\u001b[39;00m winorloss \u001b[39min\u001b[39;00m WL:\n\u001b[1;32m      <a href='vscode-notebook-cell:/Users/joshuascantlebury/WeekendProjects/NBA-Project/Playoff%20Rebound%20Analysis/NBA%20API.ipynb#X62sZmlsZQ%3D%3D?line=4'>5</a>\u001b[0m         reboundstats \u001b[39m=\u001b[39m endpoints\u001b[39m.\u001b[39mTeamDashPtReb(season_type_all_star\u001b[39m=\u001b[39m\u001b[39m\"\u001b[39m\u001b[39mPlayoffs\u001b[39m\u001b[39m\"\u001b[39m, team_id\u001b[39m=\u001b[39mteam_id, outcome_nullable\u001b[39m=\u001b[39mwinorloss)\n",
      "\u001b[0;31mKeyError\u001b[0m: 1612709889"
     ]
    }
   ],
   "source": [
    "for i, team_id in enumerate(playoff_teams_list, start=1):\n",
    "    combined_df = pd.DataFrame()\n",
    "    team_name = team_dict[team_id]\n",
    "    for winorloss in WL:\n",
    "        reboundstats = endpoints.TeamDashPtReb(season_type_all_star=\"Playoffs\", team_id=team_id, outcome_nullable=winorloss)\n",
    "        df = reboundstats.get_data_frames()[4] \n",
    "        combined_df = pd.concat([combined_df, df], ignore_index=True)\n",
    "    filename = f\"{team_name}ShotTypeRebounding.csv\"\n",
    "    combined_df.to_csv(filename, index=False)\n"
   ]
  },
  {
   "cell_type": "code",
   "execution_count": null,
   "metadata": {},
   "outputs": [],
   "source": [
    "data_frames = []\n",
    "\n",
    "# Directory where the files are located\n",
    "directory = '/Users/joshuascantlebury/WeekendProjects/NBA-Project/Playoff Rebound Analysis/'\n",
    "\n",
    "for team in team_dict.values():\n",
    "    file_path = os.path.join(directory, f'{team}ShotTypeRebounding.csv')\n",
    "    if os.path.exists(file_path):\n",
    "        df = pd.read_csv(file_path)\n",
    "        data_frames.append(df)\n",
    "\n",
    "# Combine all DataFrames into one\n",
    "combined_df = pd.concat(data_frames, ignore_index=True)\n",
    "\n",
    "# Display the combined DataFrame\n",
    "combined_df.head()\n",
    "\n",
    "# Save the combined DataFrame to a new CSV file\n",
    "combined_df.to_csv('/Users/joshuascantlebury/WeekendProjects/NBA-Project/Playoff Rebound Analysis/ShotTypeRebounding.csv', index=False)"
   ]
  }
 ],
 "metadata": {
  "kernelspec": {
   "display_name": "base",
   "language": "python",
   "name": "python3"
  },
  "language_info": {
   "codemirror_mode": {
    "name": "ipython",
    "version": 3
   },
   "file_extension": ".py",
   "mimetype": "text/x-python",
   "name": "python",
   "nbconvert_exporter": "python",
   "pygments_lexer": "ipython3",
   "version": "3.11.5"
  }
 },
 "nbformat": 4,
 "nbformat_minor": 2
}
